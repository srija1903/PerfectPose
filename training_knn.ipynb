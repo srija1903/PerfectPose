{
 "cells": [
  {
   "cell_type": "code",
   "execution_count": 1,
   "metadata": {},
   "outputs": [],
   "source": [
    "import numpy as np\n",
    "import pandas as pd\n",
    "import matplotlib.pyplot as plt\n",
    "from sklearn import neighbors\n",
    "from sklearn.model_selection import train_test_split\n",
    "from sklearn.neighbors import KNeighborsClassifier\n",
    "import json"
   ]
  },
  {
   "cell_type": "code",
   "execution_count": 2,
   "metadata": {},
   "outputs": [
    {
     "data": {
      "text/html": [
       "<div>\n",
       "<style scoped>\n",
       "    .dataframe tbody tr th:only-of-type {\n",
       "        vertical-align: middle;\n",
       "    }\n",
       "\n",
       "    .dataframe tbody tr th {\n",
       "        vertical-align: top;\n",
       "    }\n",
       "\n",
       "    .dataframe thead th {\n",
       "        text-align: right;\n",
       "    }\n",
       "</style>\n",
       "<table border=\"1\" class=\"dataframe\">\n",
       "  <thead>\n",
       "    <tr style=\"text-align: right;\">\n",
       "      <th></th>\n",
       "      <th>0</th>\n",
       "      <th>1</th>\n",
       "      <th>2</th>\n",
       "      <th>3</th>\n",
       "      <th>4</th>\n",
       "      <th>5</th>\n",
       "      <th>6</th>\n",
       "      <th>7</th>\n",
       "      <th>8</th>\n",
       "      <th>9</th>\n",
       "      <th>...</th>\n",
       "      <th>25</th>\n",
       "      <th>26</th>\n",
       "      <th>27</th>\n",
       "      <th>28</th>\n",
       "      <th>29</th>\n",
       "      <th>30</th>\n",
       "      <th>31</th>\n",
       "      <th>32</th>\n",
       "      <th>33</th>\n",
       "      <th>34</th>\n",
       "    </tr>\n",
       "  </thead>\n",
       "  <tbody>\n",
       "    <tr>\n",
       "      <th>0</th>\n",
       "      <td>Tree</td>\n",
       "      <td>388.880747</td>\n",
       "      <td>86.980328</td>\n",
       "      <td>392.675385</td>\n",
       "      <td>77.83027</td>\n",
       "      <td>380.206068</td>\n",
       "      <td>80.079787</td>\n",
       "      <td>409.512755</td>\n",
       "      <td>83.805995</td>\n",
       "      <td>367.088473</td>\n",
       "      <td>...</td>\n",
       "      <td>357.245058</td>\n",
       "      <td>230.150662</td>\n",
       "      <td>400.668694</td>\n",
       "      <td>312.815586</td>\n",
       "      <td>404.315279</td>\n",
       "      <td>317.937271</td>\n",
       "      <td>379.390631</td>\n",
       "      <td>398.775967</td>\n",
       "      <td>378.463857</td>\n",
       "      <td>395.66858</td>\n",
       "    </tr>\n",
       "    <tr>\n",
       "      <th>1</th>\n",
       "      <td>Tree</td>\n",
       "      <td>336.308472</td>\n",
       "      <td>82.230428</td>\n",
       "      <td>340.794474</td>\n",
       "      <td>71.613417</td>\n",
       "      <td>321.087351</td>\n",
       "      <td>73.302806</td>\n",
       "      <td>361.337997</td>\n",
       "      <td>78.599869</td>\n",
       "      <td>301.771311</td>\n",
       "      <td>...</td>\n",
       "      <td>376.864549</td>\n",
       "      <td>225.963264</td>\n",
       "      <td>358.050653</td>\n",
       "      <td>325.044747</td>\n",
       "      <td>324.106285</td>\n",
       "      <td>292.839503</td>\n",
       "      <td>317.604542</td>\n",
       "      <td>422.846609</td>\n",
       "      <td>312.672155</td>\n",
       "      <td>427.041939</td>\n",
       "    </tr>\n",
       "    <tr>\n",
       "      <th>2</th>\n",
       "      <td>Tree</td>\n",
       "      <td>362.101544</td>\n",
       "      <td>101.28101</td>\n",
       "      <td>366.34141</td>\n",
       "      <td>90.619742</td>\n",
       "      <td>345.050093</td>\n",
       "      <td>91.91156</td>\n",
       "      <td>387.985783</td>\n",
       "      <td>99.798594</td>\n",
       "      <td>323.456727</td>\n",
       "      <td>...</td>\n",
       "      <td>325.561226</td>\n",
       "      <td>251.76673</td>\n",
       "      <td>385.981407</td>\n",
       "      <td>330.420206</td>\n",
       "      <td>381.912326</td>\n",
       "      <td>329.042522</td>\n",
       "      <td>354.904324</td>\n",
       "      <td>419.374076</td>\n",
       "      <td>353.554383</td>\n",
       "      <td>421.019726</td>\n",
       "    </tr>\n",
       "    <tr>\n",
       "      <th>3</th>\n",
       "      <td>Tree</td>\n",
       "      <td>357.860947</td>\n",
       "      <td>125.460601</td>\n",
       "      <td>353.13993</td>\n",
       "      <td>120.174951</td>\n",
       "      <td>352.976063</td>\n",
       "      <td>119.756496</td>\n",
       "      <td>362.736934</td>\n",
       "      <td>129.061475</td>\n",
       "      <td>338.743997</td>\n",
       "      <td>...</td>\n",
       "      <td>326.942308</td>\n",
       "      <td>248.992999</td>\n",
       "      <td>351.16569</td>\n",
       "      <td>342.254255</td>\n",
       "      <td>352.445215</td>\n",
       "      <td>342.551214</td>\n",
       "      <td>337.988982</td>\n",
       "      <td>416.070412</td>\n",
       "      <td>341.193905</td>\n",
       "      <td>413.106189</td>\n",
       "    </tr>\n",
       "    <tr>\n",
       "      <th>4</th>\n",
       "      <td>Tree</td>\n",
       "      <td>347.582604</td>\n",
       "      <td>45.507914</td>\n",
       "      <td>354.059575</td>\n",
       "      <td>39.663758</td>\n",
       "      <td>333.30526</td>\n",
       "      <td>42.086739</td>\n",
       "      <td>375.699621</td>\n",
       "      <td>47.399896</td>\n",
       "      <td>312.683947</td>\n",
       "      <td>...</td>\n",
       "      <td>287.249659</td>\n",
       "      <td>222.105152</td>\n",
       "      <td>347.102397</td>\n",
       "      <td>346.096927</td>\n",
       "      <td>325.605987</td>\n",
       "      <td>375.324854</td>\n",
       "      <td>321.316028</td>\n",
       "      <td>435.147063</td>\n",
       "      <td>314.664069</td>\n",
       "      <td>440.534612</td>\n",
       "    </tr>\n",
       "    <tr>\n",
       "      <th>...</th>\n",
       "      <td>...</td>\n",
       "      <td>...</td>\n",
       "      <td>...</td>\n",
       "      <td>...</td>\n",
       "      <td>...</td>\n",
       "      <td>...</td>\n",
       "      <td>...</td>\n",
       "      <td>...</td>\n",
       "      <td>...</td>\n",
       "      <td>...</td>\n",
       "      <td>...</td>\n",
       "      <td>...</td>\n",
       "      <td>...</td>\n",
       "      <td>...</td>\n",
       "      <td>...</td>\n",
       "      <td>...</td>\n",
       "      <td>...</td>\n",
       "      <td>...</td>\n",
       "      <td>...</td>\n",
       "      <td>...</td>\n",
       "      <td>...</td>\n",
       "    </tr>\n",
       "    <tr>\n",
       "      <th>782</th>\n",
       "      <td>Warrior2</td>\n",
       "      <td>360.074743</td>\n",
       "      <td>69.09757</td>\n",
       "      <td>367.222419</td>\n",
       "      <td>62.749764</td>\n",
       "      <td>356.047466</td>\n",
       "      <td>63.494912</td>\n",
       "      <td>388.201723</td>\n",
       "      <td>65.969337</td>\n",
       "      <td>362.272359</td>\n",
       "      <td>...</td>\n",
       "      <td>365.934544</td>\n",
       "      <td>272.047492</td>\n",
       "      <td>430.291719</td>\n",
       "      <td>336.966626</td>\n",
       "      <td>420.084006</td>\n",
       "      <td>336.110774</td>\n",
       "      <td>298.731474</td>\n",
       "      <td>438.614814</td>\n",
       "      <td>299.841191</td>\n",
       "      <td>437.090585</td>\n",
       "    </tr>\n",
       "    <tr>\n",
       "      <th>783</th>\n",
       "      <td>Warrior2</td>\n",
       "      <td>350.33584</td>\n",
       "      <td>199.718518</td>\n",
       "      <td>355.112069</td>\n",
       "      <td>198.393656</td>\n",
       "      <td>352.216934</td>\n",
       "      <td>196.42702</td>\n",
       "      <td>361.256703</td>\n",
       "      <td>195.693501</td>\n",
       "      <td>383.380247</td>\n",
       "      <td>...</td>\n",
       "      <td>369.692436</td>\n",
       "      <td>317.720224</td>\n",
       "      <td>325.279379</td>\n",
       "      <td>332.148356</td>\n",
       "      <td>327.698359</td>\n",
       "      <td>328.83184</td>\n",
       "      <td>339.579179</td>\n",
       "      <td>405.02147</td>\n",
       "      <td>346.271512</td>\n",
       "      <td>416.150476</td>\n",
       "    </tr>\n",
       "    <tr>\n",
       "      <th>784</th>\n",
       "      <td>Warrior2</td>\n",
       "      <td>266.128333</td>\n",
       "      <td>278.019578</td>\n",
       "      <td>267.700889</td>\n",
       "      <td>265.14616</td>\n",
       "      <td>265.022304</td>\n",
       "      <td>265.538135</td>\n",
       "      <td>285.94271</td>\n",
       "      <td>266.190036</td>\n",
       "      <td>263.08155</td>\n",
       "      <td>...</td>\n",
       "      <td>52.974037</td>\n",
       "      <td>320.858005</td>\n",
       "      <td>198.311796</td>\n",
       "      <td>337.047634</td>\n",
       "      <td>198.948375</td>\n",
       "      <td>334.029325</td>\n",
       "      <td>184.446284</td>\n",
       "      <td>372.979003</td>\n",
       "      <td>185.128279</td>\n",
       "      <td>373.671256</td>\n",
       "    </tr>\n",
       "    <tr>\n",
       "      <th>785</th>\n",
       "      <td>Warrior2</td>\n",
       "      <td>280.605652</td>\n",
       "      <td>85.761143</td>\n",
       "      <td>288.304468</td>\n",
       "      <td>76.193558</td>\n",
       "      <td>280.560922</td>\n",
       "      <td>77.12818</td>\n",
       "      <td>320.688438</td>\n",
       "      <td>79.783598</td>\n",
       "      <td>284.592038</td>\n",
       "      <td>...</td>\n",
       "      <td>294.278593</td>\n",
       "      <td>274.201909</td>\n",
       "      <td>201.405854</td>\n",
       "      <td>313.374937</td>\n",
       "      <td>199.00089</td>\n",
       "      <td>311.468904</td>\n",
       "      <td>188.469265</td>\n",
       "      <td>424.570312</td>\n",
       "      <td>189.569307</td>\n",
       "      <td>424.944259</td>\n",
       "    </tr>\n",
       "    <tr>\n",
       "      <th>786</th>\n",
       "      <td>Warrior2</td>\n",
       "      <td>229.760552</td>\n",
       "      <td>277.557071</td>\n",
       "      <td>221.072177</td>\n",
       "      <td>273.373435</td>\n",
       "      <td>229.25568</td>\n",
       "      <td>274.690789</td>\n",
       "      <td>218.474719</td>\n",
       "      <td>274.291505</td>\n",
       "      <td>215.304395</td>\n",
       "      <td>...</td>\n",
       "      <td>234.663672</td>\n",
       "      <td>349.855729</td>\n",
       "      <td>287.345152</td>\n",
       "      <td>379.167739</td>\n",
       "      <td>284.658432</td>\n",
       "      <td>377.761581</td>\n",
       "      <td>290.050458</td>\n",
       "      <td>410.58876</td>\n",
       "      <td>290.394434</td>\n",
       "      <td>410.96295</td>\n",
       "    </tr>\n",
       "  </tbody>\n",
       "</table>\n",
       "<p>787 rows × 35 columns</p>\n",
       "</div>"
      ],
      "text/plain": [
       "           0           1           2           3           4           5    \n",
       "0        Tree  388.880747   86.980328  392.675385    77.83027  380.206068  \\\n",
       "1        Tree  336.308472   82.230428  340.794474   71.613417  321.087351   \n",
       "2        Tree  362.101544   101.28101   366.34141   90.619742  345.050093   \n",
       "3        Tree  357.860947  125.460601   353.13993  120.174951  352.976063   \n",
       "4        Tree  347.582604   45.507914  354.059575   39.663758   333.30526   \n",
       "..        ...         ...         ...         ...         ...         ...   \n",
       "782  Warrior2  360.074743    69.09757  367.222419   62.749764  356.047466   \n",
       "783  Warrior2   350.33584  199.718518  355.112069  198.393656  352.216934   \n",
       "784  Warrior2  266.128333  278.019578  267.700889   265.14616  265.022304   \n",
       "785  Warrior2  280.605652   85.761143  288.304468   76.193558  280.560922   \n",
       "786  Warrior2  229.760552  277.557071  221.072177  273.373435   229.25568   \n",
       "\n",
       "             6           7           8           9   ...          25   \n",
       "0     80.079787  409.512755   83.805995  367.088473  ...  357.245058  \\\n",
       "1     73.302806  361.337997   78.599869  301.771311  ...  376.864549   \n",
       "2      91.91156  387.985783   99.798594  323.456727  ...  325.561226   \n",
       "3    119.756496  362.736934  129.061475  338.743997  ...  326.942308   \n",
       "4     42.086739  375.699621   47.399896  312.683947  ...  287.249659   \n",
       "..          ...         ...         ...         ...  ...         ...   \n",
       "782   63.494912  388.201723   65.969337  362.272359  ...  365.934544   \n",
       "783   196.42702  361.256703  195.693501  383.380247  ...  369.692436   \n",
       "784  265.538135   285.94271  266.190036   263.08155  ...   52.974037   \n",
       "785    77.12818  320.688438   79.783598  284.592038  ...  294.278593   \n",
       "786  274.690789  218.474719  274.291505  215.304395  ...  234.663672   \n",
       "\n",
       "             26          27          28          29          30          31   \n",
       "0    230.150662  400.668694  312.815586  404.315279  317.937271  379.390631  \\\n",
       "1    225.963264  358.050653  325.044747  324.106285  292.839503  317.604542   \n",
       "2     251.76673  385.981407  330.420206  381.912326  329.042522  354.904324   \n",
       "3    248.992999   351.16569  342.254255  352.445215  342.551214  337.988982   \n",
       "4    222.105152  347.102397  346.096927  325.605987  375.324854  321.316028   \n",
       "..          ...         ...         ...         ...         ...         ...   \n",
       "782  272.047492  430.291719  336.966626  420.084006  336.110774  298.731474   \n",
       "783  317.720224  325.279379  332.148356  327.698359   328.83184  339.579179   \n",
       "784  320.858005  198.311796  337.047634  198.948375  334.029325  184.446284   \n",
       "785  274.201909  201.405854  313.374937   199.00089  311.468904  188.469265   \n",
       "786  349.855729  287.345152  379.167739  284.658432  377.761581  290.050458   \n",
       "\n",
       "             32          33          34  \n",
       "0    398.775967  378.463857   395.66858  \n",
       "1    422.846609  312.672155  427.041939  \n",
       "2    419.374076  353.554383  421.019726  \n",
       "3    416.070412  341.193905  413.106189  \n",
       "4    435.147063  314.664069  440.534612  \n",
       "..          ...         ...         ...  \n",
       "782  438.614814  299.841191  437.090585  \n",
       "783   405.02147  346.271512  416.150476  \n",
       "784  372.979003  185.128279  373.671256  \n",
       "785  424.570312  189.569307  424.944259  \n",
       "786   410.58876  290.394434   410.96295  \n",
       "\n",
       "[787 rows x 35 columns]"
      ]
     },
     "execution_count": 2,
     "metadata": {},
     "output_type": "execute_result"
    }
   ],
   "source": [
    "data = pd.read_json('exercises.json')\n",
    "dataset = data.transpose()\n",
    "dataset"
   ]
  },
  {
   "cell_type": "code",
   "execution_count": 3,
   "metadata": {},
   "outputs": [
    {
     "data": {
      "text/plain": [
       "(787, 35)"
      ]
     },
     "execution_count": 3,
     "metadata": {},
     "output_type": "execute_result"
    }
   ],
   "source": [
    "dataset.shape"
   ]
  },
  {
   "cell_type": "code",
   "execution_count": 4,
   "metadata": {},
   "outputs": [
    {
     "data": {
      "text/plain": [
       "array([[388.8807466361155, 86.98032815342386, 392.67538514040564, ...,\n",
       "        398.7759672232329, 378.4638565230109, 395.6685798629158],\n",
       "       [336.30847187012483, 82.23042763692179, 340.79447396645867, ...,\n",
       "        422.84660862785864, 312.67215532371296, 427.04193940033787],\n",
       "       [362.1015442180187, 101.28100991992594, 366.3414099063963, ...,\n",
       "        419.3740762246622, 353.554382800312, 421.0197261564449],\n",
       "       ...,\n",
       "       [266.1283334145866, 278.0195779463358, 267.70088850429016, ...,\n",
       "        372.97900289111226, 185.12827856864274, 373.6712557659823],\n",
       "       [280.6056515698128, 85.76114265933602, 288.30446811622465, ...,\n",
       "        424.5703125, 189.56930699102963, 424.94425878703225],\n",
       "       [229.76055175019502, 277.55707104339916, 221.0721772620905, ...,\n",
       "        410.58875958290025, 290.3944337460999, 410.9629495029886]],\n",
       "      dtype=object)"
      ]
     },
     "execution_count": 4,
     "metadata": {},
     "output_type": "execute_result"
    }
   ],
   "source": [
    "x = dataset.iloc[:,1:].values\n",
    "x"
   ]
  },
  {
   "cell_type": "code",
   "execution_count": 5,
   "metadata": {},
   "outputs": [
    {
     "data": {
      "text/plain": [
       "array(['Tree', 'Tree', 'Tree', 'Tree', 'Tree', 'Tree', 'Tree', 'Tree',\n",
       "       'Tree', 'Tree', 'Tree', 'Tree', 'Tree', 'Tree', 'Tree', 'Tree',\n",
       "       'Tree', 'Tree', 'Tree', 'Tree', 'Tree', 'Tree', 'Tree', 'Tree',\n",
       "       'Tree', 'Tree', 'Tree', 'Tree', 'Tree', 'Tree', 'Tree', 'Tree',\n",
       "       'Tree', 'Tree', 'Tree', 'Tree', 'Tree', 'Tree', 'Tree', 'Tree',\n",
       "       'Tree', 'Tree', 'Tree', 'Tree', 'Tree', 'Tree', 'Tree', 'Tree',\n",
       "       'Tree', 'Tree', 'Tree', 'Tree', 'Tree', 'Tree', 'Tree', 'Tree',\n",
       "       'Tree', 'Tree', 'Tree', 'Tree', 'Tree', 'Tree', 'Tree', 'Tree',\n",
       "       'Tree', 'Tree', 'Tree', 'Tree', 'Tree', 'Tree', 'Tree', 'Tree',\n",
       "       'Tree', 'Tree', 'Tree', 'Tree', 'Tree', 'Tree', 'Tree', 'Tree',\n",
       "       'Tree', 'Tree', 'Tree', 'Tree', 'Tree', 'Tree', 'Tree', 'Tree',\n",
       "       'Tree', 'Tree', 'Tree', 'Tree', 'Tree', 'Tree', 'Tree', 'Tree',\n",
       "       'Tree', 'Tree', 'Tree', 'Tree', 'Tree', 'Tree', 'Tree', 'Tree',\n",
       "       'Tree', 'Tree', 'Tree', 'Tree', 'Tree', 'Tree', 'Tree', 'Tree',\n",
       "       'Tree', 'Tree', 'Tree', 'Tree', 'Tree', 'Tree', 'Tree', 'Tree',\n",
       "       'Tree', 'Tree', 'Tree', 'Tree', 'Tree', 'Tree', 'Tree', 'Tree',\n",
       "       'Tree', 'Tree', 'Tree', 'Tree', 'Tree', 'Tree', 'Tree', 'Tree',\n",
       "       'Tree', 'Tree', 'Tree', 'Tree', 'Tree', 'Tree', 'Tree', 'Tree',\n",
       "       'Tree', 'Tree', 'Tree', 'Tree', 'Tree', 'Tree', 'Tree', 'Tree',\n",
       "       'Tree', 'Tree', 'Tree', 'Tree', 'Tree', 'Tree', 'Tree', 'Tree',\n",
       "       'Tree', 'Tree', 'Tree', 'Tree', 'Tree', 'Tree', 'Tree', 'Tree',\n",
       "       'Tree', 'Tree', 'Tree', 'Tree', 'Tree', 'Tree', 'Tree', 'Tree',\n",
       "       'Tree', 'Tree', 'Tree', 'Tree', 'Tree', 'Tree', 'Tree', 'Tree',\n",
       "       'Tree', 'Tree', 'Tree', 'Tree', 'Tree', 'Tree', 'Tree', 'Tree',\n",
       "       'Tree', 'Tree', 'Tree', 'Tree', 'Plank', 'Plank', 'Plank', 'Plank',\n",
       "       'Plank', 'Plank', 'Plank', 'Plank', 'Plank', 'Plank', 'Plank',\n",
       "       'Plank', 'Plank', 'Plank', 'Plank', 'Plank', 'Plank', 'Plank',\n",
       "       'Plank', 'Plank', 'Plank', 'Plank', 'Plank', 'Plank', 'Plank',\n",
       "       'Plank', 'Plank', 'Plank', 'Plank', 'Plank', 'Plank', 'Plank',\n",
       "       'Plank', 'Plank', 'Plank', 'Plank', 'Plank', 'Plank', 'Plank',\n",
       "       'Plank', 'Plank', 'Plank', 'Plank', 'Plank', 'Plank', 'Plank',\n",
       "       'Plank', 'Plank', 'Plank', 'Plank', 'Plank', 'Plank', 'Plank',\n",
       "       'Plank', 'Plank', 'Plank', 'Plank', 'Plank', 'Plank', 'Plank',\n",
       "       'Plank', 'Plank', 'Plank', 'Plank', 'Plank', 'Plank', 'Plank',\n",
       "       'Plank', 'Plank', 'Plank', 'Plank', 'Plank', 'Plank', 'Plank',\n",
       "       'Plank', 'Plank', 'Plank', 'Plank', 'Plank', 'Plank', 'Plank',\n",
       "       'Plank', 'Plank', 'Plank', 'Plank', 'Plank', 'Plank', 'Plank',\n",
       "       'Plank', 'Plank', 'Plank', 'Plank', 'Plank', 'Plank', 'Plank',\n",
       "       'Plank', 'Plank', 'Plank', 'Plank', 'Plank', 'Plank', 'Plank',\n",
       "       'Plank', 'Plank', 'Plank', 'Plank', 'Plank', 'Plank', 'Plank',\n",
       "       'Plank', 'Plank', 'Plank', 'Plank', 'Plank', 'Plank', 'Plank',\n",
       "       'Plank', 'Plank', 'Plank', 'Plank', 'Plank', 'Plank', 'Plank',\n",
       "       'Plank', 'Plank', 'Plank', 'Plank', 'Plank', 'Plank', 'Plank',\n",
       "       'Plank', 'Plank', 'Plank', 'Plank', 'Plank', 'Plank', 'Plank',\n",
       "       'Plank', 'Plank', 'Plank', 'Plank', 'Plank', 'Plank', 'Plank',\n",
       "       'Plank', 'Plank', 'Plank', 'Plank', 'Plank', 'Plank', 'Plank',\n",
       "       'Plank', 'Plank', 'Plank', 'Plank', 'Plank', 'Plank', 'Plank',\n",
       "       'Plank', 'Plank', 'Plank', 'Plank', 'Plank', 'Plank', 'Plank',\n",
       "       'Plank', 'Plank', 'Plank', 'Plank', 'Plank', 'Plank', 'Plank',\n",
       "       'Plank', 'Plank', 'Plank', 'Plank', 'Plank', 'Plank', 'Plank',\n",
       "       'Plank', 'Plank', 'Plank', 'Plank', 'Plank', 'Plank', 'Plank',\n",
       "       'Plank', 'Plank', 'Plank', 'Plank', 'Plank', 'Plank', 'Plank',\n",
       "       'Plank', 'Plank', 'Plank', 'Plank', 'Downdog', 'Downdog',\n",
       "       'Downdog', 'Downdog', 'Downdog', 'Downdog', 'Downdog', 'Downdog',\n",
       "       'Downdog', 'Downdog', 'Downdog', 'Downdog', 'Downdog', 'Downdog',\n",
       "       'Downdog', 'Downdog', 'Downdog', 'Downdog', 'Downdog', 'Downdog',\n",
       "       'Downdog', 'Downdog', 'Downdog', 'Downdog', 'Downdog', 'Downdog',\n",
       "       'Downdog', 'Downdog', 'Downdog', 'Downdog', 'Downdog', 'Downdog',\n",
       "       'Downdog', 'Downdog', 'Downdog', 'Downdog', 'Downdog', 'Downdog',\n",
       "       'Downdog', 'Downdog', 'Downdog', 'Downdog', 'Downdog', 'Downdog',\n",
       "       'Downdog', 'Downdog', 'Downdog', 'Downdog', 'Downdog', 'Downdog',\n",
       "       'Downdog', 'Downdog', 'Downdog', 'Downdog', 'Downdog', 'Downdog',\n",
       "       'Downdog', 'Downdog', 'Downdog', 'Downdog', 'Downdog', 'Downdog',\n",
       "       'Downdog', 'Downdog', 'Downdog', 'Downdog', 'Downdog', 'Downdog',\n",
       "       'Downdog', 'Downdog', 'Downdog', 'Downdog', 'Downdog', 'Downdog',\n",
       "       'Downdog', 'Downdog', 'Downdog', 'Downdog', 'Downdog', 'Downdog',\n",
       "       'Downdog', 'Downdog', 'Downdog', 'Downdog', 'Downdog', 'Downdog',\n",
       "       'Downdog', 'Downdog', 'Downdog', 'Downdog', 'Downdog', 'Downdog',\n",
       "       'Downdog', 'Downdog', 'Downdog', 'Downdog', 'Downdog', 'Downdog',\n",
       "       'Downdog', 'Downdog', 'Downdog', 'Downdog', 'Downdog', 'Downdog',\n",
       "       'Downdog', 'Downdog', 'Downdog', 'Downdog', 'Downdog', 'Downdog',\n",
       "       'Downdog', 'Downdog', 'Downdog', 'Downdog', 'Downdog', 'Downdog',\n",
       "       'Downdog', 'Downdog', 'Downdog', 'Downdog', 'Downdog', 'Downdog',\n",
       "       'Downdog', 'Downdog', 'Downdog', 'Downdog', 'Downdog', 'Downdog',\n",
       "       'Downdog', 'Downdog', 'Downdog', 'Downdog', 'Downdog', 'Downdog',\n",
       "       'Downdog', 'Downdog', 'Downdog', 'Downdog', 'Downdog', 'Downdog',\n",
       "       'Downdog', 'Downdog', 'Downdog', 'Downdog', 'Downdog', 'Downdog',\n",
       "       'Downdog', 'Downdog', 'Downdog', 'Downdog', 'Downdog', 'Downdog',\n",
       "       'Downdog', 'Downdog', 'Downdog', 'Downdog', 'Downdog', 'Downdog',\n",
       "       'Downdog', 'Downdog', 'Downdog', 'Downdog', 'Downdog', 'Downdog',\n",
       "       'Downdog', 'Downdog', 'Downdog', 'Downdog', 'Downdog', 'Downdog',\n",
       "       'Downdog', 'Downdog', 'Downdog', 'Downdog', 'Downdog', 'Downdog',\n",
       "       'Downdog', 'Downdog', 'Downdog', 'Downdog', 'Downdog', 'Downdog',\n",
       "       'Downdog', 'Downdog', 'Downdog', 'Downdog', 'Downdog', 'Downdog',\n",
       "       'Downdog', 'Downdog', 'Downdog', 'Downdog', 'Downdog', 'Downdog',\n",
       "       'Downdog', 'Downdog', 'Warrior2', 'Warrior2', 'Warrior2',\n",
       "       'Warrior2', 'Warrior2', 'Warrior2', 'Warrior2', 'Warrior2',\n",
       "       'Warrior2', 'Warrior2', 'Warrior2', 'Warrior2', 'Warrior2',\n",
       "       'Warrior2', 'Warrior2', 'Warrior2', 'Warrior2', 'Warrior2',\n",
       "       'Warrior2', 'Warrior2', 'Warrior2', 'Warrior2', 'Warrior2',\n",
       "       'Warrior2', 'Warrior2', 'Warrior2', 'Warrior2', 'Warrior2',\n",
       "       'Warrior2', 'Warrior2', 'Warrior2', 'Warrior2', 'Warrior2',\n",
       "       'Warrior2', 'Warrior2', 'Warrior2', 'Warrior2', 'Warrior2',\n",
       "       'Warrior2', 'Warrior2', 'Warrior2', 'Warrior2', 'Warrior2',\n",
       "       'Warrior2', 'Warrior2', 'Warrior2', 'Warrior2', 'Warrior2',\n",
       "       'Warrior2', 'Warrior2', 'Warrior2', 'Warrior2', 'Warrior2',\n",
       "       'Warrior2', 'Warrior2', 'Warrior2', 'Warrior2', 'Warrior2',\n",
       "       'Warrior2', 'Warrior2', 'Warrior2', 'Warrior2', 'Warrior2',\n",
       "       'Warrior2', 'Warrior2', 'Warrior2', 'Warrior2', 'Warrior2',\n",
       "       'Warrior2', 'Warrior2', 'Warrior2', 'Warrior2', 'Warrior2',\n",
       "       'Warrior2', 'Warrior2', 'Warrior2', 'Warrior2', 'Warrior2',\n",
       "       'Warrior2', 'Warrior2', 'Warrior2', 'Warrior2', 'Warrior2',\n",
       "       'Warrior2', 'Warrior2', 'Warrior2', 'Warrior2', 'Warrior2',\n",
       "       'Warrior2', 'Warrior2', 'Warrior2', 'Warrior2', 'Warrior2',\n",
       "       'Warrior2', 'Warrior2', 'Warrior2', 'Warrior2', 'Warrior2',\n",
       "       'Warrior2', 'Warrior2', 'Warrior2', 'Warrior2', 'Warrior2',\n",
       "       'Warrior2', 'Warrior2', 'Warrior2', 'Warrior2', 'Warrior2',\n",
       "       'Warrior2', 'Warrior2', 'Warrior2', 'Warrior2', 'Warrior2',\n",
       "       'Warrior2', 'Warrior2', 'Warrior2', 'Warrior2', 'Warrior2',\n",
       "       'Warrior2', 'Warrior2', 'Warrior2', 'Warrior2', 'Warrior2',\n",
       "       'Warrior2', 'Warrior2', 'Warrior2', 'Warrior2', 'Warrior2',\n",
       "       'Warrior2', 'Warrior2', 'Warrior2', 'Warrior2', 'Warrior2',\n",
       "       'Warrior2', 'Warrior2', 'Warrior2', 'Warrior2', 'Warrior2',\n",
       "       'Warrior2', 'Warrior2', 'Warrior2', 'Warrior2', 'Warrior2',\n",
       "       'Warrior2', 'Warrior2', 'Warrior2', 'Warrior2', 'Warrior2',\n",
       "       'Warrior2', 'Warrior2', 'Warrior2', 'Warrior2', 'Warrior2',\n",
       "       'Warrior2', 'Warrior2', 'Warrior2', 'Warrior2', 'Warrior2',\n",
       "       'Warrior2', 'Warrior2', 'Warrior2', 'Warrior2', 'Warrior2',\n",
       "       'Warrior2', 'Warrior2', 'Warrior2', 'Warrior2', 'Warrior2',\n",
       "       'Warrior2', 'Warrior2', 'Warrior2', 'Warrior2', 'Warrior2',\n",
       "       'Warrior2', 'Warrior2', 'Warrior2', 'Warrior2', 'Warrior2',\n",
       "       'Warrior2', 'Warrior2', 'Warrior2', 'Warrior2', 'Warrior2',\n",
       "       'Warrior2', 'Warrior2', 'Warrior2', 'Warrior2', 'Warrior2',\n",
       "       'Warrior2', 'Warrior2', 'Warrior2', 'Warrior2', 'Warrior2',\n",
       "       'Warrior2', 'Warrior2', 'Warrior2', 'Warrior2', 'Warrior2'],\n",
       "      dtype=object)"
      ]
     },
     "execution_count": 5,
     "metadata": {},
     "output_type": "execute_result"
    }
   ],
   "source": [
    "y = dataset.iloc[:,0].values\n",
    "y"
   ]
  },
  {
   "cell_type": "code",
   "execution_count": 6,
   "metadata": {},
   "outputs": [],
   "source": [
    "#from sklearn.cross_validation import train_test_split\n",
    "x_train,x_test,y_train,y_test = train_test_split(x,y,test_size=0.2,random_state=4)"
   ]
  },
  {
   "cell_type": "code",
   "execution_count": 7,
   "metadata": {},
   "outputs": [
    {
     "data": {
      "text/plain": [
       "(629, 34)"
      ]
     },
     "execution_count": 7,
     "metadata": {},
     "output_type": "execute_result"
    }
   ],
   "source": [
    "x_train.shape"
   ]
  },
  {
   "cell_type": "code",
   "execution_count": 8,
   "metadata": {},
   "outputs": [
    {
     "data": {
      "text/plain": [
       "(158, 34)"
      ]
     },
     "execution_count": 8,
     "metadata": {},
     "output_type": "execute_result"
    }
   ],
   "source": [
    "x_test.shape"
   ]
  },
  {
   "cell_type": "code",
   "execution_count": 9,
   "metadata": {},
   "outputs": [
    {
     "data": {
      "text/plain": [
       "(629,)"
      ]
     },
     "execution_count": 9,
     "metadata": {},
     "output_type": "execute_result"
    }
   ],
   "source": [
    "y_train.shape"
   ]
  },
  {
   "cell_type": "code",
   "execution_count": 10,
   "metadata": {},
   "outputs": [
    {
     "data": {
      "text/plain": [
       "(158,)"
      ]
     },
     "execution_count": 10,
     "metadata": {},
     "output_type": "execute_result"
    }
   ],
   "source": [
    "y_test.shape"
   ]
  },
  {
   "cell_type": "code",
   "execution_count": 11,
   "metadata": {},
   "outputs": [],
   "source": [
    "# The score function is simply a utility function for a default metric to be used within some algorithms of scikit-learn\n",
    "from sklearn.neighbors import KNeighborsClassifier\n",
    "from sklearn import metrics\n",
    "k_range = range(1,158)\n",
    "test_scores = {}\n",
    "train_scores = {}\n",
    "train_score_list = []\n",
    "test_score_list = []\n",
    "for k in k_range:\n",
    "    knn = KNeighborsClassifier(n_neighbors=k)\n",
    "    knn.fit(x_train,y_train)\n",
    "    y_pred = knn.predict(x_test)\n",
    "    train_scores[k] = knn.score(x_train,y_train)\n",
    "    train_score_list.append(train_scores[k])\n",
    "    #test_scores[k] = metrics.accuracy_score(y_test,y_pred)\n",
    "    #print(scores[k])\n",
    "    test_scores[k] = knn.score(x_test,y_test)\n",
    "    test_score_list.append(test_scores[k])"
   ]
  },
  {
   "cell_type": "code",
   "execution_count": 12,
   "metadata": {},
   "outputs": [],
   "source": [
    "knn = KNeighborsClassifier(n_neighbors=3)\n",
    "knn.fit(x_train,y_train)\n",
    "y_pred = knn.predict(x_test)"
   ]
  },
  {
   "cell_type": "code",
   "execution_count": 13,
   "metadata": {},
   "outputs": [
    {
     "data": {
      "text/plain": [
       "array(['Downdog', 'Downdog', 'Plank', 'Warrior2', 'Downdog', 'Plank',\n",
       "       'Plank', 'Tree', 'Plank', 'Warrior2', 'Warrior2', 'Tree', 'Plank',\n",
       "       'Tree', 'Warrior2', 'Plank', 'Plank', 'Downdog', 'Plank', 'Tree',\n",
       "       'Warrior2', 'Tree', 'Warrior2', 'Tree', 'Tree', 'Tree', 'Warrior2',\n",
       "       'Downdog', 'Plank', 'Tree', 'Warrior2', 'Plank', 'Downdog', 'Tree',\n",
       "       'Tree', 'Plank', 'Plank', 'Warrior2', 'Downdog', 'Downdog',\n",
       "       'Downdog', 'Downdog', 'Tree', 'Tree', 'Plank', 'Warrior2',\n",
       "       'Downdog', 'Tree', 'Tree', 'Tree', 'Plank', 'Tree', 'Tree', 'Tree',\n",
       "       'Tree', 'Warrior2', 'Plank', 'Warrior2', 'Tree', 'Warrior2',\n",
       "       'Warrior2', 'Plank', 'Downdog', 'Downdog', 'Tree', 'Warrior2',\n",
       "       'Plank', 'Warrior2', 'Tree', 'Warrior2', 'Tree', 'Warrior2',\n",
       "       'Plank', 'Tree', 'Warrior2', 'Tree', 'Downdog', 'Warrior2',\n",
       "       'Plank', 'Plank', 'Tree', 'Plank', 'Plank', 'Tree', 'Warrior2',\n",
       "       'Plank', 'Tree', 'Plank', 'Downdog', 'Warrior2', 'Tree', 'Tree',\n",
       "       'Tree', 'Warrior2', 'Plank', 'Warrior2', 'Plank', 'Warrior2',\n",
       "       'Tree', 'Warrior2', 'Plank', 'Plank', 'Tree', 'Downdog', 'Tree',\n",
       "       'Warrior2', 'Downdog', 'Warrior2', 'Plank', 'Tree', 'Warrior2',\n",
       "       'Plank', 'Plank', 'Downdog', 'Plank', 'Downdog', 'Downdog', 'Tree',\n",
       "       'Warrior2', 'Warrior2', 'Plank', 'Downdog', 'Plank', 'Downdog',\n",
       "       'Downdog', 'Tree', 'Warrior2', 'Plank', 'Plank', 'Downdog',\n",
       "       'Downdog', 'Plank', 'Plank', 'Plank', 'Downdog', 'Warrior2',\n",
       "       'Plank', 'Warrior2', 'Warrior2', 'Tree', 'Plank', 'Warrior2',\n",
       "       'Warrior2', 'Warrior2', 'Downdog', 'Downdog', 'Downdog', 'Tree',\n",
       "       'Tree', 'Downdog', 'Downdog', 'Warrior2', 'Plank', 'Tree',\n",
       "       'Warrior2', 'Tree', 'Warrior2', 'Plank'], dtype=object)"
      ]
     },
     "execution_count": 13,
     "metadata": {},
     "output_type": "execute_result"
    }
   ],
   "source": [
    "y_pred"
   ]
  },
  {
   "cell_type": "code",
   "execution_count": 14,
   "metadata": {},
   "outputs": [
    {
     "name": "stdout",
     "output_type": "stream",
     "text": [
      "90.50632911392405\n"
     ]
    }
   ],
   "source": [
    "accuracy = metrics.accuracy_score(y_test,y_pred)\n",
    "print(accuracy*100)"
   ]
  },
  {
   "cell_type": "code",
   "execution_count": 15,
   "metadata": {},
   "outputs": [
    {
     "data": {
      "image/png": "[encoded data removed]",
      "text/plain": [
       "<Figure size 640x480 with 1 Axes>"
      ]
     },
     "metadata": {},
     "output_type": "display_data"
    }
   ],
   "source": [
    "import matplotlib.pyplot as plt\n",
    "plt.plot(k_range,test_score_list,label = 'Testing Accuracy')\n",
    "plt.plot(k_range,train_score_list,label = 'Training Accuracy')\n",
    "plt.legend()\n",
    "plt.xlabel('value of k for knn')\n",
    "plt.ylabel('testing accuracy')\n",
    "plt.show()"
   ]
  },
  {
   "cell_type": "code",
   "execution_count": 20,
   "metadata": {},
   "outputs": [
    {
     "data": {
      "image/png": "[encoded data removed]",
      "text/plain": [
       "<Figure size 640x480 with 2 Axes>"
      ]
     },
     "metadata": {},
     "output_type": "display_data"
    }
   ],
   "source": [
    "from sklearn.metrics import confusion_matrix,ConfusionMatrixDisplay\n",
    "cm = confusion_matrix(y_test,y_pred)\n",
    "cm_display = ConfusionMatrixDisplay(cm,display_labels=['Tree','Plank','Downdog','Warrior 2'])\n",
    "import matplotlib.pyplot as plt\n",
    "cm_display.plot()\n",
    "plt.show()"
   ]
  },
  {
   "cell_type": "code",
   "execution_count": 16,
   "metadata": {},
   "outputs": [
    {
     "name": "stdout",
     "output_type": "stream",
     "text": [
      "['Tree']\n"
     ]
    }
   ],
   "source": [
    "# Predicting using a test image keypoints\n",
    "data = pd.read_json('./tree_test.json')\n",
    "dataset = data.transpose()\n",
    "dataset\n",
    "print(knn.predict(dataset))"
   ]
  },
  {
   "cell_type": "code",
   "execution_count": 17,
   "metadata": {},
   "outputs": [
    {
     "name": "stdout",
     "output_type": "stream",
     "text": [
      "['Warrior2']\n"
     ]
    }
   ],
   "source": [
    "# Predicting using a test image keypoints for warrior 2\n",
    "data = pd.read_json('./warrior2_test.json')\n",
    "dataset = data.transpose()\n",
    "dataset\n",
    "print(knn.predict(dataset))"
   ]
  },
  {
   "cell_type": "code",
   "execution_count": 18,
   "metadata": {},
   "outputs": [
    {
     "name": "stdout",
     "output_type": "stream",
     "text": [
      "['Plank']\n"
     ]
    }
   ],
   "source": [
    "# Predicting using a test image keypoints for warrior 1\n",
    "data = pd.read_json('./plank_test.json')\n",
    "dataset = data.transpose()\n",
    "print(knn.predict(dataset))"
   ]
  },
  {
   "cell_type": "code",
   "execution_count": 19,
   "metadata": {},
   "outputs": [
    {
     "name": "stdout",
     "output_type": "stream",
     "text": [
      "['Downdog']\n"
     ]
    }
   ],
   "source": [
    "# Predicting using a test image keypoints for warrior 1\n",
    "data = pd.read_json('./downdog_test.json')\n",
    "dataset = data.transpose()\n",
    "print(knn.predict(dataset))"
   ]
  },
  {
   "cell_type": "code",
   "execution_count": 20,
   "metadata": {},
   "outputs": [],
   "source": [
    "import pickle\n",
    "pickle.dump(knn,open('exercises.pkl','wb+'))"
   ]
  }
 ],
 "metadata": {
  "kernelspec": {
   "display_name": "Python 3",
   "language": "python",
   "name": "python3"
  },
  "language_info": {
   "codemirror_mode": {
    "name": "ipython",
    "version": 3
   },
   "file_extension": ".py",
   "mimetype": "text/x-python",
   "name": "python",
   "nbconvert_exporter": "python",
   "pygments_lexer": "ipython3",
   "version": "3.11.2"
  },
  "orig_nbformat": 4
 },
 "nbformat": 4,
 "nbformat_minor": 2
}
